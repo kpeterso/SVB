{
 "cells": [
  {
   "cell_type": "code",
   "execution_count": 62,
   "metadata": {},
   "outputs": [],
   "source": [
    "import pandas as pd\n",
    "import numpy as np\n",
    "from sklearn import preprocessing\n",
    "import xgboost\n",
    "import matplotlib.pyplot as plt\n",
    "%matplotlib inline"
   ]
  },
  {
   "cell_type": "code",
   "execution_count": 2,
   "metadata": {},
   "outputs": [],
   "source": [
    "from sklearn.linear_model import Ridge, RidgeCV, ElasticNet, LassoCV, LassoLarsCV, Lasso, LassoLars\n",
    "from sklearn.model_selection import cross_val_score\n",
    "from sklearn.model_selection import train_test_split"
   ]
  },
  {
   "cell_type": "code",
   "execution_count": 3,
   "metadata": {},
   "outputs": [],
   "source": [
    "df = pd.read_csv('/home/lookout/python/Get Around Data for Case Study.csv')"
   ]
  },
  {
   "cell_type": "code",
   "execution_count": 4,
   "metadata": {},
   "outputs": [
    {
     "data": {
      "text/html": [
       "<div>\n",
       "<style scoped>\n",
       "    .dataframe tbody tr th:only-of-type {\n",
       "        vertical-align: middle;\n",
       "    }\n",
       "\n",
       "    .dataframe tbody tr th {\n",
       "        vertical-align: top;\n",
       "    }\n",
       "\n",
       "    .dataframe thead th {\n",
       "        text-align: right;\n",
       "    }\n",
       "</style>\n",
       "<table border=\"1\" class=\"dataframe\">\n",
       "  <thead>\n",
       "    <tr style=\"text-align: right;\">\n",
       "      <th></th>\n",
       "      <th>driver_id</th>\n",
       "      <th>owner_id</th>\n",
       "      <th>driver_age</th>\n",
       "      <th>make</th>\n",
       "      <th>model</th>\n",
       "      <th>payment_type</th>\n",
       "      <th>completed_trips</th>\n",
       "      <th>vehicle_price</th>\n",
       "      <th>lead_time</th>\n",
       "      <th>trip_length</th>\n",
       "      <th>trip_revenue</th>\n",
       "      <th>young_driver_fee</th>\n",
       "      <th>insurance_fee</th>\n",
       "      <th>delivery_fee</th>\n",
       "      <th>other_revenue</th>\n",
       "      <th>gross_revenue</th>\n",
       "      <th>owner_earnings</th>\n",
       "      <th>net_revenue</th>\n",
       "      <th>first_or_returning_guest</th>\n",
       "      <th>first_or_returning_host</th>\n",
       "    </tr>\n",
       "  </thead>\n",
       "  <tbody>\n",
       "    <tr>\n",
       "      <td>0</td>\n",
       "      <td>1555955</td>\n",
       "      <td>338656</td>\n",
       "      <td>24.0</td>\n",
       "      <td>Hyundai</td>\n",
       "      <td>Accent</td>\n",
       "      <td>Debit</td>\n",
       "      <td>3</td>\n",
       "      <td>7893</td>\n",
       "      <td>1.17</td>\n",
       "      <td>2.00</td>\n",
       "      <td>92</td>\n",
       "      <td>18</td>\n",
       "      <td>14</td>\n",
       "      <td>-</td>\n",
       "      <td>9</td>\n",
       "      <td>133</td>\n",
       "      <td>69</td>\n",
       "      <td>64</td>\n",
       "      <td>Repeat</td>\n",
       "      <td>Repeat</td>\n",
       "    </tr>\n",
       "    <tr>\n",
       "      <td>1</td>\n",
       "      <td>196066</td>\n",
       "      <td>1944996</td>\n",
       "      <td>42.0</td>\n",
       "      <td>Dodge</td>\n",
       "      <td>Grand Caravan</td>\n",
       "      <td>Credit</td>\n",
       "      <td>1</td>\n",
       "      <td>9738</td>\n",
       "      <td>52.63</td>\n",
       "      <td>8.69</td>\n",
       "      <td>450</td>\n",
       "      <td>-</td>\n",
       "      <td>-</td>\n",
       "      <td>20</td>\n",
       "      <td>79</td>\n",
       "      <td>549</td>\n",
       "      <td>385</td>\n",
       "      <td>163</td>\n",
       "      <td>First Time</td>\n",
       "      <td>Repeat</td>\n",
       "    </tr>\n",
       "    <tr>\n",
       "      <td>2</td>\n",
       "      <td>2717284</td>\n",
       "      <td>1661563</td>\n",
       "      <td>26.0</td>\n",
       "      <td>Toyota</td>\n",
       "      <td>Corolla</td>\n",
       "      <td>Credit</td>\n",
       "      <td>1</td>\n",
       "      <td>6758</td>\n",
       "      <td>0.05</td>\n",
       "      <td>2.00</td>\n",
       "      <td>70</td>\n",
       "      <td>-</td>\n",
       "      <td>11</td>\n",
       "      <td>-</td>\n",
       "      <td>7</td>\n",
       "      <td>88</td>\n",
       "      <td>53</td>\n",
       "      <td>35</td>\n",
       "      <td>First Time</td>\n",
       "      <td>Repeat</td>\n",
       "    </tr>\n",
       "    <tr>\n",
       "      <td>3</td>\n",
       "      <td>1916312</td>\n",
       "      <td>1661563</td>\n",
       "      <td>24.0</td>\n",
       "      <td>Toyota</td>\n",
       "      <td>Corolla</td>\n",
       "      <td>Debit</td>\n",
       "      <td>1</td>\n",
       "      <td>6758</td>\n",
       "      <td>0.14</td>\n",
       "      <td>9.04</td>\n",
       "      <td>284</td>\n",
       "      <td>85</td>\n",
       "      <td>43</td>\n",
       "      <td>40</td>\n",
       "      <td>203</td>\n",
       "      <td>654</td>\n",
       "      <td>402</td>\n",
       "      <td>252</td>\n",
       "      <td>First Time</td>\n",
       "      <td>Repeat</td>\n",
       "    </tr>\n",
       "    <tr>\n",
       "      <td>4</td>\n",
       "      <td>2158072</td>\n",
       "      <td>64977</td>\n",
       "      <td>33.0</td>\n",
       "      <td>Chevrolet</td>\n",
       "      <td>Suburban</td>\n",
       "      <td>Credit</td>\n",
       "      <td>3</td>\n",
       "      <td>40950</td>\n",
       "      <td>31.77</td>\n",
       "      <td>6.96</td>\n",
       "      <td>455</td>\n",
       "      <td>-</td>\n",
       "      <td>-</td>\n",
       "      <td>40</td>\n",
       "      <td>46</td>\n",
       "      <td>541</td>\n",
       "      <td>446</td>\n",
       "      <td>95</td>\n",
       "      <td>Repeat</td>\n",
       "      <td>Repeat</td>\n",
       "    </tr>\n",
       "  </tbody>\n",
       "</table>\n",
       "</div>"
      ],
      "text/plain": [
       "   driver_id  owner_id   driver_age        make          model payment_type  \\\n",
       "0    1555955    338656          24.0    Hyundai         Accent        Debit   \n",
       "1     196066   1944996          42.0      Dodge  Grand Caravan       Credit   \n",
       "2    2717284   1661563          26.0     Toyota        Corolla       Credit   \n",
       "3    1916312   1661563          24.0     Toyota        Corolla        Debit   \n",
       "4    2158072     64977          33.0  Chevrolet       Suburban       Credit   \n",
       "\n",
       "   completed_trips  vehicle_price   lead_time    trip_length   \\\n",
       "0                3           7893         1.17           2.00   \n",
       "1                1           9738        52.63           8.69   \n",
       "2                1           6758         0.05           2.00   \n",
       "3                1           6758         0.14           9.04   \n",
       "4                3          40950        31.77           6.96   \n",
       "\n",
       "    trip_revenue     young_driver_fee     insurance_fee     delivery_fee    \\\n",
       "0              92                   18                14             -       \n",
       "1             450                 -                 -                  20    \n",
       "2              70                 -                   11             -       \n",
       "3             284                   85                43               40    \n",
       "4             455                 -                 -                  40    \n",
       "\n",
       "    other_revenue     gross_revenue     owner_earnings    net_revenue   \\\n",
       "0                9               133                 69            64    \n",
       "1               79               549                385           163    \n",
       "2                7                88                 53            35    \n",
       "3              203               654                402           252    \n",
       "4               46               541                446            95    \n",
       "\n",
       "  first_or_returning_guest first_or_returning_host  \n",
       "0                   Repeat                  Repeat  \n",
       "1               First Time                  Repeat  \n",
       "2               First Time                  Repeat  \n",
       "3               First Time                  Repeat  \n",
       "4                   Repeat                  Repeat  "
      ]
     },
     "execution_count": 4,
     "metadata": {},
     "output_type": "execute_result"
    }
   ],
   "source": [
    "df.head()"
   ]
  },
  {
   "cell_type": "code",
   "execution_count": 5,
   "metadata": {},
   "outputs": [
    {
     "data": {
      "text/html": [
       "<div>\n",
       "<style scoped>\n",
       "    .dataframe tbody tr th:only-of-type {\n",
       "        vertical-align: middle;\n",
       "    }\n",
       "\n",
       "    .dataframe tbody tr th {\n",
       "        vertical-align: top;\n",
       "    }\n",
       "\n",
       "    .dataframe thead th {\n",
       "        text-align: right;\n",
       "    }\n",
       "</style>\n",
       "<table border=\"1\" class=\"dataframe\">\n",
       "  <thead>\n",
       "    <tr style=\"text-align: right;\">\n",
       "      <th></th>\n",
       "      <th>driver_id</th>\n",
       "      <th>owner_id</th>\n",
       "      <th>driver_age</th>\n",
       "      <th>make</th>\n",
       "      <th>model</th>\n",
       "      <th>payment_type</th>\n",
       "      <th>completed_trips</th>\n",
       "      <th>vehicle_price</th>\n",
       "      <th>lead_time</th>\n",
       "      <th>trip_length</th>\n",
       "      <th>trip_revenue</th>\n",
       "      <th>young_driver_fee</th>\n",
       "      <th>insurance_fee</th>\n",
       "      <th>delivery_fee</th>\n",
       "      <th>other_revenue</th>\n",
       "      <th>gross_revenue</th>\n",
       "      <th>owner_earnings</th>\n",
       "      <th>net_revenue</th>\n",
       "      <th>first_or_returning_guest</th>\n",
       "      <th>first_or_returning_host</th>\n",
       "    </tr>\n",
       "  </thead>\n",
       "  <tbody>\n",
       "    <tr>\n",
       "      <td>0</td>\n",
       "      <td>1555955</td>\n",
       "      <td>338656</td>\n",
       "      <td>24.0</td>\n",
       "      <td>Hyundai</td>\n",
       "      <td>Accent</td>\n",
       "      <td>Debit</td>\n",
       "      <td>3</td>\n",
       "      <td>7893</td>\n",
       "      <td>1.17</td>\n",
       "      <td>2.00</td>\n",
       "      <td>92</td>\n",
       "      <td>18</td>\n",
       "      <td>14</td>\n",
       "      <td>-</td>\n",
       "      <td>9</td>\n",
       "      <td>133</td>\n",
       "      <td>69</td>\n",
       "      <td>64</td>\n",
       "      <td>Repeat</td>\n",
       "      <td>Repeat</td>\n",
       "    </tr>\n",
       "    <tr>\n",
       "      <td>1</td>\n",
       "      <td>196066</td>\n",
       "      <td>1944996</td>\n",
       "      <td>42.0</td>\n",
       "      <td>Dodge</td>\n",
       "      <td>Grand Caravan</td>\n",
       "      <td>Credit</td>\n",
       "      <td>1</td>\n",
       "      <td>9738</td>\n",
       "      <td>52.63</td>\n",
       "      <td>8.69</td>\n",
       "      <td>450</td>\n",
       "      <td>-</td>\n",
       "      <td>-</td>\n",
       "      <td>20</td>\n",
       "      <td>79</td>\n",
       "      <td>549</td>\n",
       "      <td>385</td>\n",
       "      <td>163</td>\n",
       "      <td>First Time</td>\n",
       "      <td>Repeat</td>\n",
       "    </tr>\n",
       "    <tr>\n",
       "      <td>2</td>\n",
       "      <td>2717284</td>\n",
       "      <td>1661563</td>\n",
       "      <td>26.0</td>\n",
       "      <td>Toyota</td>\n",
       "      <td>Corolla</td>\n",
       "      <td>Credit</td>\n",
       "      <td>1</td>\n",
       "      <td>6758</td>\n",
       "      <td>0.05</td>\n",
       "      <td>2.00</td>\n",
       "      <td>70</td>\n",
       "      <td>-</td>\n",
       "      <td>11</td>\n",
       "      <td>-</td>\n",
       "      <td>7</td>\n",
       "      <td>88</td>\n",
       "      <td>53</td>\n",
       "      <td>35</td>\n",
       "      <td>First Time</td>\n",
       "      <td>Repeat</td>\n",
       "    </tr>\n",
       "    <tr>\n",
       "      <td>3</td>\n",
       "      <td>1916312</td>\n",
       "      <td>1661563</td>\n",
       "      <td>24.0</td>\n",
       "      <td>Toyota</td>\n",
       "      <td>Corolla</td>\n",
       "      <td>Debit</td>\n",
       "      <td>1</td>\n",
       "      <td>6758</td>\n",
       "      <td>0.14</td>\n",
       "      <td>9.04</td>\n",
       "      <td>284</td>\n",
       "      <td>85</td>\n",
       "      <td>43</td>\n",
       "      <td>40</td>\n",
       "      <td>203</td>\n",
       "      <td>654</td>\n",
       "      <td>402</td>\n",
       "      <td>252</td>\n",
       "      <td>First Time</td>\n",
       "      <td>Repeat</td>\n",
       "    </tr>\n",
       "    <tr>\n",
       "      <td>4</td>\n",
       "      <td>2158072</td>\n",
       "      <td>64977</td>\n",
       "      <td>33.0</td>\n",
       "      <td>Chevrolet</td>\n",
       "      <td>Suburban</td>\n",
       "      <td>Credit</td>\n",
       "      <td>3</td>\n",
       "      <td>40950</td>\n",
       "      <td>31.77</td>\n",
       "      <td>6.96</td>\n",
       "      <td>455</td>\n",
       "      <td>-</td>\n",
       "      <td>-</td>\n",
       "      <td>40</td>\n",
       "      <td>46</td>\n",
       "      <td>541</td>\n",
       "      <td>446</td>\n",
       "      <td>95</td>\n",
       "      <td>Repeat</td>\n",
       "      <td>Repeat</td>\n",
       "    </tr>\n",
       "  </tbody>\n",
       "</table>\n",
       "</div>"
      ],
      "text/plain": [
       "   driver_id  owner_id  driver_age       make          model payment_type  \\\n",
       "0    1555955    338656        24.0    Hyundai         Accent        Debit   \n",
       "1     196066   1944996        42.0      Dodge  Grand Caravan       Credit   \n",
       "2    2717284   1661563        26.0     Toyota        Corolla       Credit   \n",
       "3    1916312   1661563        24.0     Toyota        Corolla        Debit   \n",
       "4    2158072     64977        33.0  Chevrolet       Suburban       Credit   \n",
       "\n",
       "   completed_trips  vehicle_price  lead_time  trip_length trip_revenue  \\\n",
       "0                3           7893       1.17         2.00           92   \n",
       "1                1           9738      52.63         8.69          450   \n",
       "2                1           6758       0.05         2.00           70   \n",
       "3                1           6758       0.14         9.04          284   \n",
       "4                3          40950      31.77         6.96          455   \n",
       "\n",
       "  young_driver_fee insurance_fee delivery_fee other_revenue gross_revenue  \\\n",
       "0               18            14            -             9           133   \n",
       "1                -             -           20            79           549   \n",
       "2                -            11            -             7            88   \n",
       "3               85            43           40           203           654   \n",
       "4                -             -           40            46           541   \n",
       "\n",
       "  owner_earnings net_revenue first_or_returning_guest first_or_returning_host  \n",
       "0             69          64                   Repeat                  Repeat  \n",
       "1            385         163               First Time                  Repeat  \n",
       "2             53          35               First Time                  Repeat  \n",
       "3            402         252               First Time                  Repeat  \n",
       "4            446          95                   Repeat                  Repeat  "
      ]
     },
     "execution_count": 5,
     "metadata": {},
     "output_type": "execute_result"
    }
   ],
   "source": [
    "df = df.apply(lambda x: x.str.strip() if x.dtype == \"object\" else x)\n",
    "df = df.rename(columns=lambda x: x.strip())\n",
    "df.head()"
   ]
  },
  {
   "cell_type": "code",
   "execution_count": 6,
   "metadata": {},
   "outputs": [],
   "source": [
    "numericColumns = ['driver_age','completed_trips','vehicle_price','lead_time','trip_length','trip_revenue','young_driver_fee','insurance_fee','delivery_fee','other_revenue','gross_revenue','owner_earnings','net_revenue']\n",
    "categoricalColumns = ['payment_type','first_or_returning_guest','first_or_returning_host']\n",
    "for c in numericColumns:\n",
    "    df[c] = pd.to_numeric(df[c], errors='coerce',downcast='float')"
   ]
  },
  {
   "cell_type": "code",
   "execution_count": 9,
   "metadata": {},
   "outputs": [
    {
     "data": {
      "text/html": [
       "<div>\n",
       "<style scoped>\n",
       "    .dataframe tbody tr th:only-of-type {\n",
       "        vertical-align: middle;\n",
       "    }\n",
       "\n",
       "    .dataframe tbody tr th {\n",
       "        vertical-align: top;\n",
       "    }\n",
       "\n",
       "    .dataframe thead th {\n",
       "        text-align: right;\n",
       "    }\n",
       "</style>\n",
       "<table border=\"1\" class=\"dataframe\">\n",
       "  <thead>\n",
       "    <tr style=\"text-align: right;\">\n",
       "      <th></th>\n",
       "      <th>driver_id</th>\n",
       "      <th>owner_id</th>\n",
       "      <th>driver_age</th>\n",
       "      <th>completed_trips</th>\n",
       "      <th>vehicle_price</th>\n",
       "      <th>lead_time</th>\n",
       "      <th>trip_length</th>\n",
       "      <th>trip_revenue</th>\n",
       "      <th>young_driver_fee</th>\n",
       "      <th>insurance_fee</th>\n",
       "      <th>delivery_fee</th>\n",
       "      <th>other_revenue</th>\n",
       "      <th>gross_revenue</th>\n",
       "      <th>owner_earnings</th>\n",
       "      <th>net_revenue</th>\n",
       "    </tr>\n",
       "  </thead>\n",
       "  <tbody>\n",
       "    <tr>\n",
       "      <td>count</td>\n",
       "      <td>7.355500e+04</td>\n",
       "      <td>7.355500e+04</td>\n",
       "      <td>73546.000000</td>\n",
       "      <td>73555.000000</td>\n",
       "      <td>73555.000000</td>\n",
       "      <td>73555.000000</td>\n",
       "      <td>73555.000000</td>\n",
       "      <td>72819.000000</td>\n",
       "      <td>12293.000000</td>\n",
       "      <td>50973.000000</td>\n",
       "      <td>11559.000000</td>\n",
       "      <td>73439.000000</td>\n",
       "      <td>71899.000000</td>\n",
       "      <td>72733.000000</td>\n",
       "      <td>73144.000000</td>\n",
       "    </tr>\n",
       "    <tr>\n",
       "      <td>mean</td>\n",
       "      <td>4.082790e+06</td>\n",
       "      <td>2.584958e+06</td>\n",
       "      <td>33.257675</td>\n",
       "      <td>4.479600</td>\n",
       "      <td>16310.834961</td>\n",
       "      <td>5.582101</td>\n",
       "      <td>4.122981</td>\n",
       "      <td>172.356903</td>\n",
       "      <td>43.968681</td>\n",
       "      <td>36.211956</td>\n",
       "      <td>39.411713</td>\n",
       "      <td>39.307793</td>\n",
       "      <td>236.449524</td>\n",
       "      <td>156.171783</td>\n",
       "      <td>98.147079</td>\n",
       "    </tr>\n",
       "    <tr>\n",
       "      <td>std</td>\n",
       "      <td>2.219926e+06</td>\n",
       "      <td>1.988449e+06</td>\n",
       "      <td>9.425288</td>\n",
       "      <td>7.875206</td>\n",
       "      <td>13773.302734</td>\n",
       "      <td>14.337815</td>\n",
       "      <td>6.114041</td>\n",
       "      <td>143.716003</td>\n",
       "      <td>39.296471</td>\n",
       "      <td>44.077023</td>\n",
       "      <td>22.956507</td>\n",
       "      <td>79.261772</td>\n",
       "      <td>176.178131</td>\n",
       "      <td>138.542313</td>\n",
       "      <td>92.919617</td>\n",
       "    </tr>\n",
       "    <tr>\n",
       "      <td>min</td>\n",
       "      <td>4.850000e+02</td>\n",
       "      <td>1.555400e+04</td>\n",
       "      <td>20.000000</td>\n",
       "      <td>1.000000</td>\n",
       "      <td>100.000000</td>\n",
       "      <td>-0.020000</td>\n",
       "      <td>0.040000</td>\n",
       "      <td>10.000000</td>\n",
       "      <td>2.000000</td>\n",
       "      <td>2.000000</td>\n",
       "      <td>5.000000</td>\n",
       "      <td>0.000000</td>\n",
       "      <td>10.000000</td>\n",
       "      <td>1.000000</td>\n",
       "      <td>1.000000</td>\n",
       "    </tr>\n",
       "    <tr>\n",
       "      <td>25%</td>\n",
       "      <td>2.375330e+06</td>\n",
       "      <td>1.097455e+06</td>\n",
       "      <td>26.000000</td>\n",
       "      <td>1.000000</td>\n",
       "      <td>7597.000000</td>\n",
       "      <td>0.140000</td>\n",
       "      <td>1.770000</td>\n",
       "      <td>76.000000</td>\n",
       "      <td>20.000000</td>\n",
       "      <td>14.000000</td>\n",
       "      <td>20.000000</td>\n",
       "      <td>10.000000</td>\n",
       "      <td>111.000000</td>\n",
       "      <td>66.000000</td>\n",
       "      <td>41.000000</td>\n",
       "    </tr>\n",
       "    <tr>\n",
       "      <td>50%</td>\n",
       "      <td>3.897772e+06</td>\n",
       "      <td>2.098791e+06</td>\n",
       "      <td>31.000000</td>\n",
       "      <td>2.000000</td>\n",
       "      <td>12249.000000</td>\n",
       "      <td>0.810000</td>\n",
       "      <td>3.000000</td>\n",
       "      <td>135.000000</td>\n",
       "      <td>34.000000</td>\n",
       "      <td>24.000000</td>\n",
       "      <td>35.000000</td>\n",
       "      <td>17.000000</td>\n",
       "      <td>191.000000</td>\n",
       "      <td>117.000000</td>\n",
       "      <td>73.000000</td>\n",
       "    </tr>\n",
       "    <tr>\n",
       "      <td>75%</td>\n",
       "      <td>5.653818e+06</td>\n",
       "      <td>4.108501e+06</td>\n",
       "      <td>38.000000</td>\n",
       "      <td>4.000000</td>\n",
       "      <td>19491.000000</td>\n",
       "      <td>3.750000</td>\n",
       "      <td>4.880000</td>\n",
       "      <td>220.000000</td>\n",
       "      <td>54.000000</td>\n",
       "      <td>43.000000</td>\n",
       "      <td>50.000000</td>\n",
       "      <td>33.000000</td>\n",
       "      <td>309.000000</td>\n",
       "      <td>197.000000</td>\n",
       "      <td>122.000000</td>\n",
       "    </tr>\n",
       "    <tr>\n",
       "      <td>max</td>\n",
       "      <td>8.920084e+06</td>\n",
       "      <td>8.873825e+06</td>\n",
       "      <td>90.000000</td>\n",
       "      <td>144.000000</td>\n",
       "      <td>200800.000000</td>\n",
       "      <td>321.779999</td>\n",
       "      <td>345.059998</td>\n",
       "      <td>999.000000</td>\n",
       "      <td>780.000000</td>\n",
       "      <td>980.000000</td>\n",
       "      <td>120.000000</td>\n",
       "      <td>991.000000</td>\n",
       "      <td>998.000000</td>\n",
       "      <td>999.000000</td>\n",
       "      <td>999.000000</td>\n",
       "    </tr>\n",
       "  </tbody>\n",
       "</table>\n",
       "</div>"
      ],
      "text/plain": [
       "          driver_id      owner_id    driver_age  completed_trips  \\\n",
       "count  7.355500e+04  7.355500e+04  73546.000000     73555.000000   \n",
       "mean   4.082790e+06  2.584958e+06     33.257675         4.479600   \n",
       "std    2.219926e+06  1.988449e+06      9.425288         7.875206   \n",
       "min    4.850000e+02  1.555400e+04     20.000000         1.000000   \n",
       "25%    2.375330e+06  1.097455e+06     26.000000         1.000000   \n",
       "50%    3.897772e+06  2.098791e+06     31.000000         2.000000   \n",
       "75%    5.653818e+06  4.108501e+06     38.000000         4.000000   \n",
       "max    8.920084e+06  8.873825e+06     90.000000       144.000000   \n",
       "\n",
       "       vehicle_price     lead_time   trip_length  trip_revenue  \\\n",
       "count   73555.000000  73555.000000  73555.000000  72819.000000   \n",
       "mean    16310.834961      5.582101      4.122981    172.356903   \n",
       "std     13773.302734     14.337815      6.114041    143.716003   \n",
       "min       100.000000     -0.020000      0.040000     10.000000   \n",
       "25%      7597.000000      0.140000      1.770000     76.000000   \n",
       "50%     12249.000000      0.810000      3.000000    135.000000   \n",
       "75%     19491.000000      3.750000      4.880000    220.000000   \n",
       "max    200800.000000    321.779999    345.059998    999.000000   \n",
       "\n",
       "       young_driver_fee  insurance_fee  delivery_fee  other_revenue  \\\n",
       "count      12293.000000   50973.000000  11559.000000   73439.000000   \n",
       "mean          43.968681      36.211956     39.411713      39.307793   \n",
       "std           39.296471      44.077023     22.956507      79.261772   \n",
       "min            2.000000       2.000000      5.000000       0.000000   \n",
       "25%           20.000000      14.000000     20.000000      10.000000   \n",
       "50%           34.000000      24.000000     35.000000      17.000000   \n",
       "75%           54.000000      43.000000     50.000000      33.000000   \n",
       "max          780.000000     980.000000    120.000000     991.000000   \n",
       "\n",
       "       gross_revenue  owner_earnings   net_revenue  \n",
       "count   71899.000000    72733.000000  73144.000000  \n",
       "mean      236.449524      156.171783     98.147079  \n",
       "std       176.178131      138.542313     92.919617  \n",
       "min        10.000000        1.000000      1.000000  \n",
       "25%       111.000000       66.000000     41.000000  \n",
       "50%       191.000000      117.000000     73.000000  \n",
       "75%       309.000000      197.000000    122.000000  \n",
       "max       998.000000      999.000000    999.000000  "
      ]
     },
     "execution_count": 9,
     "metadata": {},
     "output_type": "execute_result"
    }
   ],
   "source": [
    "df.describe()"
   ]
  },
  {
   "cell_type": "markdown",
   "metadata": {},
   "source": [
    "Are there correlations between data?"
   ]
  },
  {
   "cell_type": "code",
   "execution_count": 12,
   "metadata": {},
   "outputs": [
    {
     "data": {
      "text/plain": [
       "<matplotlib.image.AxesImage at 0x7f4d3ca65940>"
      ]
     },
     "execution_count": 12,
     "metadata": {},
     "output_type": "execute_result"
    },
    {
     "data": {
      "image/png": "[encoded data removed]",
      "text/plain": [
       "<Figure size 288x288 with 1 Axes>"
      ]
     },
     "metadata": {
      "needs_background": "light"
     },
     "output_type": "display_data"
    }
   ],
   "source": [
    "plt.matshow(df.corr())"
   ]
  },
  {
   "cell_type": "code",
   "execution_count": 13,
   "metadata": {},
   "outputs": [
    {
     "data": {
      "text/html": [
       "<div>\n",
       "<style scoped>\n",
       "    .dataframe tbody tr th:only-of-type {\n",
       "        vertical-align: middle;\n",
       "    }\n",
       "\n",
       "    .dataframe tbody tr th {\n",
       "        vertical-align: top;\n",
       "    }\n",
       "\n",
       "    .dataframe thead th {\n",
       "        text-align: right;\n",
       "    }\n",
       "</style>\n",
       "<table border=\"1\" class=\"dataframe\">\n",
       "  <thead>\n",
       "    <tr style=\"text-align: right;\">\n",
       "      <th></th>\n",
       "      <th>driver_id</th>\n",
       "      <th>owner_id</th>\n",
       "      <th>driver_age</th>\n",
       "      <th>completed_trips</th>\n",
       "      <th>vehicle_price</th>\n",
       "      <th>lead_time</th>\n",
       "      <th>trip_length</th>\n",
       "      <th>trip_revenue</th>\n",
       "      <th>young_driver_fee</th>\n",
       "      <th>insurance_fee</th>\n",
       "      <th>delivery_fee</th>\n",
       "      <th>other_revenue</th>\n",
       "      <th>gross_revenue</th>\n",
       "      <th>owner_earnings</th>\n",
       "      <th>net_revenue</th>\n",
       "    </tr>\n",
       "  </thead>\n",
       "  <tbody>\n",
       "    <tr>\n",
       "      <td>driver_id</td>\n",
       "      <td>1.000000</td>\n",
       "      <td>0.242327</td>\n",
       "      <td>0.075014</td>\n",
       "      <td>-0.241300</td>\n",
       "      <td>0.033677</td>\n",
       "      <td>0.015671</td>\n",
       "      <td>0.002305</td>\n",
       "      <td>0.015334</td>\n",
       "      <td>0.081722</td>\n",
       "      <td>0.036670</td>\n",
       "      <td>0.098948</td>\n",
       "      <td>0.017673</td>\n",
       "      <td>0.040946</td>\n",
       "      <td>0.021917</td>\n",
       "      <td>0.042015</td>\n",
       "    </tr>\n",
       "    <tr>\n",
       "      <td>owner_id</td>\n",
       "      <td>0.242327</td>\n",
       "      <td>1.000000</td>\n",
       "      <td>0.034520</td>\n",
       "      <td>-0.026126</td>\n",
       "      <td>0.124963</td>\n",
       "      <td>0.033704</td>\n",
       "      <td>-0.024346</td>\n",
       "      <td>0.028744</td>\n",
       "      <td>0.068866</td>\n",
       "      <td>0.036765</td>\n",
       "      <td>0.018897</td>\n",
       "      <td>-0.026326</td>\n",
       "      <td>0.032115</td>\n",
       "      <td>0.008329</td>\n",
       "      <td>0.033536</td>\n",
       "    </tr>\n",
       "    <tr>\n",
       "      <td>driver_age</td>\n",
       "      <td>0.075014</td>\n",
       "      <td>0.034520</td>\n",
       "      <td>1.000000</td>\n",
       "      <td>0.026774</td>\n",
       "      <td>0.036864</td>\n",
       "      <td>0.078536</td>\n",
       "      <td>0.071485</td>\n",
       "      <td>0.092959</td>\n",
       "      <td>-0.012548</td>\n",
       "      <td>0.090991</td>\n",
       "      <td>0.075726</td>\n",
       "      <td>-0.029797</td>\n",
       "      <td>0.029334</td>\n",
       "      <td>0.064712</td>\n",
       "      <td>-0.011513</td>\n",
       "    </tr>\n",
       "    <tr>\n",
       "      <td>completed_trips</td>\n",
       "      <td>-0.241300</td>\n",
       "      <td>-0.026126</td>\n",
       "      <td>0.026774</td>\n",
       "      <td>1.000000</td>\n",
       "      <td>-0.016336</td>\n",
       "      <td>-0.110419</td>\n",
       "      <td>-0.013006</td>\n",
       "      <td>-0.074610</td>\n",
       "      <td>-0.030571</td>\n",
       "      <td>-0.049364</td>\n",
       "      <td>-0.011348</td>\n",
       "      <td>-0.051584</td>\n",
       "      <td>-0.111899</td>\n",
       "      <td>-0.086000</td>\n",
       "      <td>-0.080676</td>\n",
       "    </tr>\n",
       "    <tr>\n",
       "      <td>vehicle_price</td>\n",
       "      <td>0.033677</td>\n",
       "      <td>0.124963</td>\n",
       "      <td>0.036864</td>\n",
       "      <td>-0.016336</td>\n",
       "      <td>1.000000</td>\n",
       "      <td>0.029677</td>\n",
       "      <td>-0.107015</td>\n",
       "      <td>0.327840</td>\n",
       "      <td>0.250158</td>\n",
       "      <td>0.303356</td>\n",
       "      <td>0.241802</td>\n",
       "      <td>0.060054</td>\n",
       "      <td>0.306094</td>\n",
       "      <td>0.290682</td>\n",
       "      <td>0.280289</td>\n",
       "    </tr>\n",
       "    <tr>\n",
       "      <td>lead_time</td>\n",
       "      <td>0.015671</td>\n",
       "      <td>0.033704</td>\n",
       "      <td>0.078536</td>\n",
       "      <td>-0.110419</td>\n",
       "      <td>0.029677</td>\n",
       "      <td>1.000000</td>\n",
       "      <td>0.061148</td>\n",
       "      <td>0.134370</td>\n",
       "      <td>0.070615</td>\n",
       "      <td>0.112707</td>\n",
       "      <td>-0.028644</td>\n",
       "      <td>-0.016259</td>\n",
       "      <td>0.133739</td>\n",
       "      <td>0.113588</td>\n",
       "      <td>0.077511</td>\n",
       "    </tr>\n",
       "    <tr>\n",
       "      <td>trip_length</td>\n",
       "      <td>0.002305</td>\n",
       "      <td>-0.024346</td>\n",
       "      <td>0.071485</td>\n",
       "      <td>-0.013006</td>\n",
       "      <td>-0.107015</td>\n",
       "      <td>0.061148</td>\n",
       "      <td>1.000000</td>\n",
       "      <td>0.707289</td>\n",
       "      <td>0.723431</td>\n",
       "      <td>0.591510</td>\n",
       "      <td>0.078576</td>\n",
       "      <td>0.205498</td>\n",
       "      <td>0.625834</td>\n",
       "      <td>0.638286</td>\n",
       "      <td>0.629676</td>\n",
       "    </tr>\n",
       "    <tr>\n",
       "      <td>trip_revenue</td>\n",
       "      <td>0.015334</td>\n",
       "      <td>0.028744</td>\n",
       "      <td>0.092959</td>\n",
       "      <td>-0.074610</td>\n",
       "      <td>0.327840</td>\n",
       "      <td>0.134370</td>\n",
       "      <td>0.707289</td>\n",
       "      <td>1.000000</td>\n",
       "      <td>0.950658</td>\n",
       "      <td>0.798065</td>\n",
       "      <td>0.260584</td>\n",
       "      <td>0.225828</td>\n",
       "      <td>0.904101</td>\n",
       "      <td>0.880599</td>\n",
       "      <td>0.822180</td>\n",
       "    </tr>\n",
       "    <tr>\n",
       "      <td>young_driver_fee</td>\n",
       "      <td>0.081722</td>\n",
       "      <td>0.068866</td>\n",
       "      <td>-0.012548</td>\n",
       "      <td>-0.030571</td>\n",
       "      <td>0.250158</td>\n",
       "      <td>0.070615</td>\n",
       "      <td>0.723431</td>\n",
       "      <td>0.950658</td>\n",
       "      <td>1.000000</td>\n",
       "      <td>0.788569</td>\n",
       "      <td>0.248623</td>\n",
       "      <td>0.203875</td>\n",
       "      <td>0.857189</td>\n",
       "      <td>0.773417</td>\n",
       "      <td>0.920626</td>\n",
       "    </tr>\n",
       "    <tr>\n",
       "      <td>insurance_fee</td>\n",
       "      <td>0.036670</td>\n",
       "      <td>0.036765</td>\n",
       "      <td>0.090991</td>\n",
       "      <td>-0.049364</td>\n",
       "      <td>0.303356</td>\n",
       "      <td>0.112707</td>\n",
       "      <td>0.591510</td>\n",
       "      <td>0.798065</td>\n",
       "      <td>0.788569</td>\n",
       "      <td>1.000000</td>\n",
       "      <td>0.209396</td>\n",
       "      <td>0.204968</td>\n",
       "      <td>0.780447</td>\n",
       "      <td>0.724147</td>\n",
       "      <td>0.872440</td>\n",
       "    </tr>\n",
       "    <tr>\n",
       "      <td>delivery_fee</td>\n",
       "      <td>0.098948</td>\n",
       "      <td>0.018897</td>\n",
       "      <td>0.075726</td>\n",
       "      <td>-0.011348</td>\n",
       "      <td>0.241802</td>\n",
       "      <td>-0.028644</td>\n",
       "      <td>0.078576</td>\n",
       "      <td>0.260584</td>\n",
       "      <td>0.248623</td>\n",
       "      <td>0.209396</td>\n",
       "      <td>1.000000</td>\n",
       "      <td>0.094302</td>\n",
       "      <td>0.365833</td>\n",
       "      <td>0.370434</td>\n",
       "      <td>0.304935</td>\n",
       "    </tr>\n",
       "    <tr>\n",
       "      <td>other_revenue</td>\n",
       "      <td>0.017673</td>\n",
       "      <td>-0.026326</td>\n",
       "      <td>-0.029797</td>\n",
       "      <td>-0.051584</td>\n",
       "      <td>0.060054</td>\n",
       "      <td>-0.016259</td>\n",
       "      <td>0.205498</td>\n",
       "      <td>0.225828</td>\n",
       "      <td>0.203875</td>\n",
       "      <td>0.204968</td>\n",
       "      <td>0.094302</td>\n",
       "      <td>1.000000</td>\n",
       "      <td>0.521996</td>\n",
       "      <td>0.579414</td>\n",
       "      <td>0.394446</td>\n",
       "    </tr>\n",
       "    <tr>\n",
       "      <td>gross_revenue</td>\n",
       "      <td>0.040946</td>\n",
       "      <td>0.032115</td>\n",
       "      <td>0.029334</td>\n",
       "      <td>-0.111899</td>\n",
       "      <td>0.306094</td>\n",
       "      <td>0.133739</td>\n",
       "      <td>0.625834</td>\n",
       "      <td>0.904101</td>\n",
       "      <td>0.857189</td>\n",
       "      <td>0.780447</td>\n",
       "      <td>0.365833</td>\n",
       "      <td>0.521996</td>\n",
       "      <td>1.000000</td>\n",
       "      <td>0.965692</td>\n",
       "      <td>0.902480</td>\n",
       "    </tr>\n",
       "    <tr>\n",
       "      <td>owner_earnings</td>\n",
       "      <td>0.021917</td>\n",
       "      <td>0.008329</td>\n",
       "      <td>0.064712</td>\n",
       "      <td>-0.086000</td>\n",
       "      <td>0.290682</td>\n",
       "      <td>0.113588</td>\n",
       "      <td>0.638286</td>\n",
       "      <td>0.880599</td>\n",
       "      <td>0.773417</td>\n",
       "      <td>0.724147</td>\n",
       "      <td>0.370434</td>\n",
       "      <td>0.579414</td>\n",
       "      <td>0.965692</td>\n",
       "      <td>1.000000</td>\n",
       "      <td>0.810437</td>\n",
       "    </tr>\n",
       "    <tr>\n",
       "      <td>net_revenue</td>\n",
       "      <td>0.042015</td>\n",
       "      <td>0.033536</td>\n",
       "      <td>-0.011513</td>\n",
       "      <td>-0.080676</td>\n",
       "      <td>0.280289</td>\n",
       "      <td>0.077511</td>\n",
       "      <td>0.629676</td>\n",
       "      <td>0.822180</td>\n",
       "      <td>0.920626</td>\n",
       "      <td>0.872440</td>\n",
       "      <td>0.304935</td>\n",
       "      <td>0.394446</td>\n",
       "      <td>0.902480</td>\n",
       "      <td>0.810437</td>\n",
       "      <td>1.000000</td>\n",
       "    </tr>\n",
       "  </tbody>\n",
       "</table>\n",
       "</div>"
      ],
      "text/plain": [
       "                  driver_id  owner_id  driver_age  completed_trips  \\\n",
       "driver_id          1.000000  0.242327    0.075014        -0.241300   \n",
       "owner_id           0.242327  1.000000    0.034520        -0.026126   \n",
       "driver_age         0.075014  0.034520    1.000000         0.026774   \n",
       "completed_trips   -0.241300 -0.026126    0.026774         1.000000   \n",
       "vehicle_price      0.033677  0.124963    0.036864        -0.016336   \n",
       "lead_time          0.015671  0.033704    0.078536        -0.110419   \n",
       "trip_length        0.002305 -0.024346    0.071485        -0.013006   \n",
       "trip_revenue       0.015334  0.028744    0.092959        -0.074610   \n",
       "young_driver_fee   0.081722  0.068866   -0.012548        -0.030571   \n",
       "insurance_fee      0.036670  0.036765    0.090991        -0.049364   \n",
       "delivery_fee       0.098948  0.018897    0.075726        -0.011348   \n",
       "other_revenue      0.017673 -0.026326   -0.029797        -0.051584   \n",
       "gross_revenue      0.040946  0.032115    0.029334        -0.111899   \n",
       "owner_earnings     0.021917  0.008329    0.064712        -0.086000   \n",
       "net_revenue        0.042015  0.033536   -0.011513        -0.080676   \n",
       "\n",
       "                  vehicle_price  lead_time  trip_length  trip_revenue  \\\n",
       "driver_id              0.033677   0.015671     0.002305      0.015334   \n",
       "owner_id               0.124963   0.033704    -0.024346      0.028744   \n",
       "driver_age             0.036864   0.078536     0.071485      0.092959   \n",
       "completed_trips       -0.016336  -0.110419    -0.013006     -0.074610   \n",
       "vehicle_price          1.000000   0.029677    -0.107015      0.327840   \n",
       "lead_time              0.029677   1.000000     0.061148      0.134370   \n",
       "trip_length           -0.107015   0.061148     1.000000      0.707289   \n",
       "trip_revenue           0.327840   0.134370     0.707289      1.000000   \n",
       "young_driver_fee       0.250158   0.070615     0.723431      0.950658   \n",
       "insurance_fee          0.303356   0.112707     0.591510      0.798065   \n",
       "delivery_fee           0.241802  -0.028644     0.078576      0.260584   \n",
       "other_revenue          0.060054  -0.016259     0.205498      0.225828   \n",
       "gross_revenue          0.306094   0.133739     0.625834      0.904101   \n",
       "owner_earnings         0.290682   0.113588     0.638286      0.880599   \n",
       "net_revenue            0.280289   0.077511     0.629676      0.822180   \n",
       "\n",
       "                  young_driver_fee  insurance_fee  delivery_fee  \\\n",
       "driver_id                 0.081722       0.036670      0.098948   \n",
       "owner_id                  0.068866       0.036765      0.018897   \n",
       "driver_age               -0.012548       0.090991      0.075726   \n",
       "completed_trips          -0.030571      -0.049364     -0.011348   \n",
       "vehicle_price             0.250158       0.303356      0.241802   \n",
       "lead_time                 0.070615       0.112707     -0.028644   \n",
       "trip_length               0.723431       0.591510      0.078576   \n",
       "trip_revenue              0.950658       0.798065      0.260584   \n",
       "young_driver_fee          1.000000       0.788569      0.248623   \n",
       "insurance_fee             0.788569       1.000000      0.209396   \n",
       "delivery_fee              0.248623       0.209396      1.000000   \n",
       "other_revenue             0.203875       0.204968      0.094302   \n",
       "gross_revenue             0.857189       0.780447      0.365833   \n",
       "owner_earnings            0.773417       0.724147      0.370434   \n",
       "net_revenue               0.920626       0.872440      0.304935   \n",
       "\n",
       "                  other_revenue  gross_revenue  owner_earnings  net_revenue  \n",
       "driver_id              0.017673       0.040946        0.021917     0.042015  \n",
       "owner_id              -0.026326       0.032115        0.008329     0.033536  \n",
       "driver_age            -0.029797       0.029334        0.064712    -0.011513  \n",
       "completed_trips       -0.051584      -0.111899       -0.086000    -0.080676  \n",
       "vehicle_price          0.060054       0.306094        0.290682     0.280289  \n",
       "lead_time             -0.016259       0.133739        0.113588     0.077511  \n",
       "trip_length            0.205498       0.625834        0.638286     0.629676  \n",
       "trip_revenue           0.225828       0.904101        0.880599     0.822180  \n",
       "young_driver_fee       0.203875       0.857189        0.773417     0.920626  \n",
       "insurance_fee          0.204968       0.780447        0.724147     0.872440  \n",
       "delivery_fee           0.094302       0.365833        0.370434     0.304935  \n",
       "other_revenue          1.000000       0.521996        0.579414     0.394446  \n",
       "gross_revenue          0.521996       1.000000        0.965692     0.902480  \n",
       "owner_earnings         0.579414       0.965692        1.000000     0.810437  \n",
       "net_revenue            0.394446       0.902480        0.810437     1.000000  "
      ]
     },
     "execution_count": 13,
     "metadata": {},
     "output_type": "execute_result"
    }
   ],
   "source": [
    "df.corr()"
   ]
  },
  {
   "cell_type": "markdown",
   "metadata": {},
   "source": [
    "It looks like the revenue features are highly correlated."
   ]
  },
  {
   "cell_type": "markdown",
   "metadata": {},
   "source": [
    "Maximize net revenue?"
   ]
  },
  {
   "cell_type": "code",
   "execution_count": 22,
   "metadata": {},
   "outputs": [],
   "source": [
    "dfDummies = pd.get_dummies(df.drop(['make','model','driver_id','owner_id','payment_type'], axis=1), drop_first=True)"
   ]
  },
  {
   "cell_type": "markdown",
   "metadata": {},
   "source": [
    "What is gross revenue based on? It is probably a sum of all revenue columns"
   ]
  },
  {
   "cell_type": "code",
   "execution_count": 132,
   "metadata": {},
   "outputs": [],
   "source": [
    "v = ['driver_age','completed_trips', 'vehicle_price', 'lead_time', 'trip_length', 'gross_revenue','insurance_fee','delivery_fee','other_revenue',\n",
    "    'first_or_returning_guest_Repeat', 'first_or_returning_host_Repeat','trip_revenue']\n",
    "dfDummies = dfDummies[dfDummies['driver_age']>25]\n",
    "#scaler = preprocessing.StandardScaler()# Fit your data on the scaler object\n",
    "dfGross=dfDummies[v].dropna()"
   ]
  },
  {
   "cell_type": "code",
   "execution_count": 133,
   "metadata": {},
   "outputs": [],
   "source": [
    "X = dfGross.drop('gross_revenue',axis=1)\n",
    "y = dfGross['gross_revenue']\n",
    "Xtrain, Xtest, ytrain, ytest = train_test_split(X, y, test_size=0.4)"
   ]
  },
  {
   "cell_type": "code",
   "execution_count": 134,
   "metadata": {},
   "outputs": [],
   "source": [
    "Xtrain, Xtest, ytrain, ytest = train_test_split(X, y, test_size=0.4)"
   ]
  },
  {
   "cell_type": "code",
   "execution_count": 135,
   "metadata": {},
   "outputs": [],
   "source": [
    "alphas = [.01, .05, .1, .5, 1, 5, 10, 15, 20, 25, 30, 35, 40, 50, 100, 125, 150, 175, 200, 250, 300,400,500,600]\n",
    "ridgeCV = []\n",
    "for alpha in alphas:\n",
    "    model = Ridge(alpha = alpha)\n",
    "    rmse = np.sqrt(-cross_val_score(model, Xtrain, ytrain, scoring=\"neg_mean_squared_error\", cv = 5)).mean()\n",
    "    ridgeCV.append(rmse)\n",
    "    \n",
    "alphaSearch = pd.Series(ridgeCV, index=alphas)"
   ]
  },
  {
   "cell_type": "code",
   "execution_count": 136,
   "metadata": {},
   "outputs": [
    {
     "data": {
      "text/plain": [
       "Text(0, 0.5, 'rmse')"
      ]
     },
     "execution_count": 136,
     "metadata": {},
     "output_type": "execute_result"
    },
    {
     "data": {
      "image/png": "[encoded data removed]",
      "text/plain": [
       "<Figure size 432x288 with 1 Axes>"
      ]
     },
     "metadata": {
      "needs_background": "light"
     },
     "output_type": "display_data"
    }
   ],
   "source": [
    "alphaSearch.plot(title = \"Validation Curve\")\n",
    "plt.xlabel(\"alpha\")\n",
    "plt.ylabel(\"rmse\")"
   ]
  },
  {
   "cell_type": "code",
   "execution_count": 137,
   "metadata": {},
   "outputs": [
    {
     "data": {
      "text/plain": [
       "200.0    0.462013\n",
       "250.0    0.462015\n",
       "175.0    0.462016\n",
       "150.0    0.462021\n",
       "300.0    0.462022\n",
       "dtype: float64"
      ]
     },
     "execution_count": 137,
     "metadata": {},
     "output_type": "execute_result"
    }
   ],
   "source": [
    "alphaSearch.sort_values().head()"
   ]
  },
  {
   "cell_type": "code",
   "execution_count": 138,
   "metadata": {},
   "outputs": [
    {
     "data": {
      "text/plain": [
       "Ridge(alpha=200, copy_X=True, fit_intercept=True, max_iter=None,\n",
       "      normalize=False, random_state=None, solver='auto', tol=0.001)"
      ]
     },
     "execution_count": 138,
     "metadata": {},
     "output_type": "execute_result"
    }
   ],
   "source": [
    "ridgeModel = Ridge(alpha=200)\n",
    "ridgeModel.fit(Xtrain, ytrain)"
   ]
  },
  {
   "cell_type": "code",
   "execution_count": 139,
   "metadata": {},
   "outputs": [
    {
     "data": {
      "text/plain": [
       "0.9999926841539147"
      ]
     },
     "execution_count": 139,
     "metadata": {},
     "output_type": "execute_result"
    }
   ],
   "source": [
    "ridgeModel.score(Xtest, ytest)"
   ]
  },
  {
   "cell_type": "code",
   "execution_count": 140,
   "metadata": {},
   "outputs": [
    {
     "data": {
      "text/plain": [
       "<matplotlib.axes._subplots.AxesSubplot at 0x7f4d11f04ac8>"
      ]
     },
     "execution_count": 140,
     "metadata": {},
     "output_type": "execute_result"
    },
    {
     "data": {
      "image/png": "[encoded data removed]",
      "text/plain": [
       "<Figure size 432x288 with 1 Axes>"
      ]
     },
     "metadata": {
      "needs_background": "light"
     },
     "output_type": "display_data"
    }
   ],
   "source": [
    "pd.Series(ridgeModel.coef_,index=Xtrain.columns).plot.barh()"
   ]
  },
  {
   "cell_type": "markdown",
   "metadata": {},
   "source": [
    "It looks like repeat users have an ousized impact on gross revenue. Lets check with XGBoost feature importance."
   ]
  },
  {
   "cell_type": "code",
   "execution_count": 141,
   "metadata": {},
   "outputs": [
    {
     "name": "stderr",
     "output_type": "stream",
     "text": [
      "/usr/local/lib/python3.6/dist-packages/xgboost/core.py:587: FutureWarning: Series.base is deprecated and will be removed in a future version\n",
      "  if getattr(data, 'base', None) is not None and \\\n"
     ]
    },
    {
     "data": {
      "text/plain": [
       "0.9964176395162752"
      ]
     },
     "execution_count": 141,
     "metadata": {},
     "output_type": "execute_result"
    }
   ],
   "source": [
    "model_xgb = xgboost.XGBRegressor(n_estimators=80, max_depth=5, learning_rate=.1, objective='reg:squarederror') #the params were tuned using xgb.cv\n",
    "model_xgb.fit(Xtrain, ytrain)\n",
    "model_xgb.score(Xtest, ytest)"
   ]
  },
  {
   "cell_type": "code",
   "execution_count": 142,
   "metadata": {},
   "outputs": [
    {
     "data": {
      "text/plain": [
       "<matplotlib.axes._subplots.AxesSubplot at 0x7f4d11e007b8>"
      ]
     },
     "execution_count": 142,
     "metadata": {},
     "output_type": "execute_result"
    },
    {
     "data": {
      "image/png": "[encoded data removed]",
      "text/plain": [
       "<Figure size 432x288 with 1 Axes>"
      ]
     },
     "metadata": {
      "needs_background": "light"
     },
     "output_type": "display_data"
    }
   ],
   "source": [
    "pd.Series(model_xgb.feature_importances_, index=Xtrain.columns).plot.barh()"
   ]
  },
  {
   "cell_type": "markdown",
   "metadata": {},
   "source": [
    "Trip revenue makes up most of the gross revenue, although the other revenues and fees contribute."
   ]
  },
  {
   "cell_type": "markdown",
   "metadata": {},
   "source": [
    "What non-revenue variables is trip_revenue based on?"
   ]
  },
  {
   "cell_type": "code",
   "execution_count": 99,
   "metadata": {},
   "outputs": [],
   "source": [
    "v = ['driver_age','completed_trips', 'vehicle_price', 'lead_time', 'trip_length','trip_revenue','insurance_fee', 'delivery_fee','other_revenue',\n",
    "    'first_or_returning_guest_Repeat', 'first_or_returning_host_Repeat','gross_revenue']\n",
    "dfDummies = dfDummies[dfDummies['driver_age']>25]\n",
    "\n",
    "dfLR=dfDummies[v].dropna()"
   ]
  },
  {
   "cell_type": "code",
   "execution_count": 100,
   "metadata": {},
   "outputs": [],
   "source": [
    "X = dfLR.drop('trip_revenue',axis=1)\n",
    "y=dfLR['trip_revenue']"
   ]
  },
  {
   "cell_type": "code",
   "execution_count": 68,
   "metadata": {},
   "outputs": [],
   "source": [
    "alphas = [.01, .05, .1, .5, 1, 5, 10, 15, 20, 25, 30, 35, 40, 50, 100, 125, 150, 175, 200, 250, 300,400,500,600]\n",
    "ridgeCV = []\n",
    "for alpha in alphas:\n",
    "    model = Ridge(alpha = alpha)\n",
    "    rmse = np.sqrt(-cross_val_score(model, Xtrain, ytrain, scoring=\"neg_mean_squared_error\", cv = 5)).mean()\n",
    "    ridgeCV.append(rmse)\n",
    "    \n",
    "alphaSearch = pd.Series(ridgeCV, index=alphas)"
   ]
  },
  {
   "cell_type": "code",
   "execution_count": 69,
   "metadata": {},
   "outputs": [
    {
     "data": {
      "text/plain": [
       "Text(0, 0.5, 'rmse')"
      ]
     },
     "execution_count": 69,
     "metadata": {},
     "output_type": "execute_result"
    },
    {
     "data": {
      "image/png": "[encoded data removed]",
      "text/plain": [
       "<Figure size 432x288 with 1 Axes>"
      ]
     },
     "metadata": {
      "needs_background": "light"
     },
     "output_type": "display_data"
    }
   ],
   "source": [
    "alphaSearch.plot(title = \"Validation Curve\")\n",
    "plt.xlabel(\"alpha\")\n",
    "plt.ylabel(\"rmse\")"
   ]
  },
  {
   "cell_type": "code",
   "execution_count": 70,
   "metadata": {},
   "outputs": [
    {
     "data": {
      "text/plain": [
       "600.0    81.277602\n",
       "500.0    81.277662\n",
       "400.0    81.277801\n",
       "300.0    81.278036\n",
       "250.0    81.278194\n",
       "dtype: float64"
      ]
     },
     "execution_count": 70,
     "metadata": {},
     "output_type": "execute_result"
    }
   ],
   "source": [
    "alphaSearch.sort_values().head()"
   ]
  },
  {
   "cell_type": "code",
   "execution_count": 73,
   "metadata": {},
   "outputs": [
    {
     "data": {
      "text/plain": [
       "Ridge(alpha=600, copy_X=True, fit_intercept=True, max_iter=None,\n",
       "      normalize=False, random_state=None, solver='auto', tol=0.001)"
      ]
     },
     "execution_count": 73,
     "metadata": {},
     "output_type": "execute_result"
    }
   ],
   "source": [
    "ridgeModel = Ridge(alpha=600)\n",
    "ridgeModel.fit(Xtrain, ytrain)"
   ]
  },
  {
   "cell_type": "code",
   "execution_count": 74,
   "metadata": {},
   "outputs": [
    {
     "data": {
      "text/plain": [
       "0.7117215701387054"
      ]
     },
     "execution_count": 74,
     "metadata": {},
     "output_type": "execute_result"
    }
   ],
   "source": [
    "ridgeModel.score(Xtest, ytest)"
   ]
  },
  {
   "cell_type": "code",
   "execution_count": 75,
   "metadata": {},
   "outputs": [
    {
     "data": {
      "text/plain": [
       "driver_age                          0.048697\n",
       "completed_trips                    -0.511372\n",
       "vehicle_price                       0.004704\n",
       "lead_time                           0.303624\n",
       "trip_length                        30.006238\n",
       "first_or_returning_guest_Repeat    -7.029875\n",
       "first_or_returning_host_Repeat      0.056334\n",
       "dtype: float64"
      ]
     },
     "execution_count": 75,
     "metadata": {},
     "output_type": "execute_result"
    }
   ],
   "source": [
    "pd.Series(ridgeModel.coef_,index=Xtrain.columns)"
   ]
  },
  {
   "cell_type": "markdown",
   "metadata": {},
   "source": [
    "Lets double-check the results by looking at feature importance with XGBoost"
   ]
  },
  {
   "cell_type": "code",
   "execution_count": 76,
   "metadata": {},
   "outputs": [
    {
     "name": "stderr",
     "output_type": "stream",
     "text": [
      "/usr/local/lib/python3.6/dist-packages/xgboost/core.py:587: FutureWarning: Series.base is deprecated and will be removed in a future version\n",
      "  if getattr(data, 'base', None) is not None and \\\n"
     ]
    },
    {
     "data": {
      "text/plain": [
       "0.8075419074028983"
      ]
     },
     "execution_count": 76,
     "metadata": {},
     "output_type": "execute_result"
    }
   ],
   "source": [
    "model_xgb = xgboost.XGBRegressor(n_estimators=60, max_depth=2, learning_rate=.1, objective='reg:squarederror') #the params were tuned using xgb.cv\n",
    "model_xgb.fit(Xtrain, ytrain)\n",
    "model_xgb.score(Xtest, ytest)"
   ]
  },
  {
   "cell_type": "code",
   "execution_count": 143,
   "metadata": {},
   "outputs": [
    {
     "data": {
      "text/plain": [
       "<matplotlib.axes._subplots.AxesSubplot at 0x7f4d11dc1cc0>"
      ]
     },
     "execution_count": 143,
     "metadata": {},
     "output_type": "execute_result"
    },
    {
     "data": {
      "image/png": "[encoded data removed]",
      "text/plain": [
       "<Figure size 432x288 with 1 Axes>"
      ]
     },
     "metadata": {
      "needs_background": "light"
     },
     "output_type": "display_data"
    }
   ],
   "source": [
    "pd.Series(model_xgb.feature_importances_, index=Xtrain.columns).plot.barh()"
   ]
  },
  {
   "cell_type": "markdown",
   "metadata": {},
   "source": [
    "It looks like trip revenue is 66% trip length and 33% vehicle price. The other variables may be a percentage of trip revenue."
   ]
  },
  {
   "cell_type": "markdown",
   "metadata": {},
   "source": [
    "Possible ways to increase income by increasing trip length or increasing vehicle price?"
   ]
  },
  {
   "cell_type": "markdown",
   "metadata": {},
   "source": [
    "Hypothesis: other_income is mainly tips"
   ]
  },
  {
   "cell_type": "code",
   "execution_count": 79,
   "metadata": {},
   "outputs": [
    {
     "data": {
      "text/plain": [
       "count    72729.000000\n",
       "mean         0.287808\n",
       "std          0.795692\n",
       "min          0.000000\n",
       "25%          0.100000\n",
       "50%          0.105263\n",
       "75%          0.194737\n",
       "max         35.045456\n",
       "dtype: float64"
      ]
     },
     "execution_count": 79,
     "metadata": {},
     "output_type": "execute_result"
    }
   ],
   "source": [
    "(df['other_revenue']/df['trip_revenue']).describe()"
   ]
  },
  {
   "cell_type": "code",
   "execution_count": 80,
   "metadata": {},
   "outputs": [
    {
     "data": {
      "text/plain": [
       "<matplotlib.axes._subplots.AxesSubplot at 0x7f4d144aac50>"
      ]
     },
     "execution_count": 80,
     "metadata": {},
     "output_type": "execute_result"
    },
    {
     "data": {
      "image/png": "[encoded data removed]",
      "text/plain": [
       "<Figure size 432x288 with 1 Axes>"
      ]
     },
     "metadata": {
      "needs_background": "light"
     },
     "output_type": "display_data"
    }
   ],
   "source": [
    "(df['other_revenue']/df['trip_revenue']).hist(bins=[i/10 for i in range(0,10)])"
   ]
  },
  {
   "cell_type": "markdown",
   "metadata": {},
   "source": [
    "Most of the numbers are between 0 and 20% of trip income. This looks confirmed, although some of the values are surprisingly large."
   ]
  },
  {
   "cell_type": "markdown",
   "metadata": {},
   "source": [
    "Is there a relationship between age and income (other than withyoung driver fee)?"
   ]
  },
  {
   "cell_type": "code",
   "execution_count": 15,
   "metadata": {},
   "outputs": [
    {
     "data": {
      "text/plain": [
       "<matplotlib.axes._subplots.AxesSubplot at 0x7f4d3a8110f0>"
      ]
     },
     "execution_count": 15,
     "metadata": {},
     "output_type": "execute_result"
    },
    {
     "data": {
      "image/png": "[encoded data removed]",
      "text/plain": [
       "<Figure size 432x288 with 1 Axes>"
      ]
     },
     "metadata": {
      "needs_background": "light"
     },
     "output_type": "display_data"
    }
   ],
   "source": [
    "df.groupby('driver_age')['net_revenue'].mean().plot.bar()"
   ]
  },
  {
   "cell_type": "code",
   "execution_count": 19,
   "metadata": {},
   "outputs": [
    {
     "data": {
      "text/plain": [
       "<matplotlib.axes._subplots.AxesSubplot at 0x7f4d3a2a06a0>"
      ]
     },
     "execution_count": 19,
     "metadata": {},
     "output_type": "execute_result"
    },
    {
     "data": {
      "image/png": "[encoded data removed]",
      "text/plain": [
       "<Figure size 432x288 with 1 Axes>"
      ]
     },
     "metadata": {
      "needs_background": "light"
     },
     "output_type": "display_data"
    }
   ],
   "source": [
    "df.groupby('driver_age')['vehicle_price'].mean().plot.bar()"
   ]
  },
  {
   "cell_type": "code",
   "execution_count": 81,
   "metadata": {},
   "outputs": [
    {
     "data": {
      "text/plain": [
       "<matplotlib.axes._subplots.AxesSubplot at 0x7f4d144ea588>"
      ]
     },
     "execution_count": 81,
     "metadata": {},
     "output_type": "execute_result"
    },
    {
     "data": {
      "image/png": "[encoded data removed]",
      "text/plain": [
       "<Figure size 432x288 with 1 Axes>"
      ]
     },
     "metadata": {
      "needs_background": "light"
     },
     "output_type": "display_data"
    }
   ],
   "source": [
    "df.groupby('driver_age')['trip_length'].mean().plot.bar()"
   ]
  },
  {
   "cell_type": "markdown",
   "metadata": {},
   "source": [
    "Young Driver Fee is increasing the revenue for youngest drivers, offsetting slightly lower vehicle price for those age groups"
   ]
  },
  {
   "cell_type": "code",
   "execution_count": null,
   "metadata": {},
   "outputs": [],
   "source": []
  }
 ],
 "metadata": {
  "kernelspec": {
   "display_name": "Python 3",
   "language": "python",
   "name": "python3"
  },
  "language_info": {
   "codemirror_mode": {
    "name": "ipython",
    "version": 3
   },
   "file_extension": ".py",
   "mimetype": "text/x-python",
   "name": "python",
   "nbconvert_exporter": "python",
   "pygments_lexer": "ipython3",
   "version": "3.6.8"
  }
 },
 "nbformat": 4,
 "nbformat_minor": 2
}
